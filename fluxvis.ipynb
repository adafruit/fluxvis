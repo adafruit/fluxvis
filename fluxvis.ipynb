{
 "cells": [
  {
   "cell_type": "markdown",
   "id": "touched-diana",
   "metadata": {},
   "source": [
    "# Welcome to the Flux Visualization notebook!\n",
    "\n",
    "To use this notebook, select \"run all\". After a delay, the \"Upload\" button will appear. Click it and then select the file to upload. After the upload is complete, the visualization will be shown below. You can save an image by right clicking.\n",
    "\n",
    "If you need to change the visualization settings, add or modify arguments to the `go()` call (e.g., to set the `tracks=`), then hit ctrl-enter to re-evaluate the cell, and upload again. The initial pre-sets are for Apple II 5.25\" floppies stored in `.a2r` format, showing only full tracks.\n",
    "\n",
    "The full source for fluxvis is [on github](https://github.com/adafruit/fluxvis) and can be installed locally [from pypi](https://pypi.org/project/fluxvis/) via `pip install fluxvis`."
   ]
  },
  {
   "cell_type": "code",
   "execution_count": null,
   "id": "synthetic-freedom",
   "metadata": {},
   "outputs": [],
   "source": [
    "!pip install -qqq 'fluxvis[notebook]'"
   ]
  },
  {
   "cell_type": "code",
   "execution_count": null,
   "id": "quiet-arcade",
   "metadata": {},
   "outputs": [],
   "source": [
    "from fluxvis.notebook import go\n",
    "\n",
    "go()"
   ]
  }
 ],
 "metadata": {
  "kernelspec": {
   "display_name": "Python 3",
   "language": "python",
   "name": "python3"
  },
  "language_info": {
   "codemirror_mode": {
    "name": "ipython",
    "version": 3
   },
   "file_extension": ".py",
   "mimetype": "text/x-python",
   "name": "python",
   "nbconvert_exporter": "python",
   "pygments_lexer": "ipython3",
   "version": "3.9.2"
  }
 },
 "nbformat": 4,
 "nbformat_minor": 5
}
